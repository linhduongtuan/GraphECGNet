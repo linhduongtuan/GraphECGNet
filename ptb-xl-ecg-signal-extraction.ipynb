{
 "cells": [
  {
   "cell_type": "code",
   "execution_count": 4,
   "id": "49bd8076",
   "metadata": {
    "execution": {
     "iopub.execute_input": "2021-11-19T13:49:30.513340Z",
     "iopub.status.busy": "2021-11-19T13:49:30.512630Z",
     "iopub.status.idle": "2021-11-19T13:49:31.498774Z",
     "shell.execute_reply": "2021-11-19T13:49:31.498067Z",
     "shell.execute_reply.started": "2021-11-19T13:29:54.789538Z"
    },
    "papermill": {
     "duration": 1.01348,
     "end_time": "2021-11-19T13:49:31.498979",
     "exception": false,
     "start_time": "2021-11-19T13:49:30.485499",
     "status": "completed"
    },
    "tags": []
   },
   "outputs": [],
   "source": [
    "import os\n",
    "import ast\n",
    "import pickle\n",
    "import joblib\n",
    "import shutil\n",
    "\n",
    "from tqdm.auto import tqdm\n",
    "import pandas as pd\n",
    "import numpy as np\n",
    "import wfdb\n",
    "\n",
    "from sklearn.preprocessing import MultiLabelBinarizer\n",
    "\n",
    "PATH = '/users/mac/Downloads/ECG/PTB_XL/'\n",
    "OUTPUT_DIR = '/users/mac/Downloads/ECG/PTB_XL/ptbxl_data_signals100/'\n",
    "if not os.path.exists(OUTPUT_DIR):\n",
    "    os.makedirs(OUTPUT_DIR)"
   ]
  },
  {
   "cell_type": "code",
   "execution_count": 5,
   "id": "88b08ebf",
   "metadata": {
    "execution": {
     "iopub.execute_input": "2021-11-19T13:49:31.553252Z",
     "iopub.status.busy": "2021-11-19T13:49:31.546413Z",
     "iopub.status.idle": "2021-11-19T13:49:31.555546Z",
     "shell.execute_reply": "2021-11-19T13:49:31.555035Z",
     "shell.execute_reply.started": "2021-11-19T13:29:58.851908Z"
    },
    "papermill": {
     "duration": 0.044981,
     "end_time": "2021-11-19T13:49:31.555695",
     "exception": false,
     "start_time": "2021-11-19T13:49:31.510714",
     "status": "completed"
    },
    "tags": []
   },
   "outputs": [],
   "source": [
    "# DATA PROCESSING STUFF\n",
    "\n",
    "def select_data(XX,YY, outputfolder):\n",
    "    # convert multilabel to multi-hot\n",
    "    mlb = MultiLabelBinarizer()\n",
    "\n",
    "    X = XX[YY.superdiagnostic_len > 0]\n",
    "    Y = YY[YY.superdiagnostic_len > 0]\n",
    "    mlb.fit(Y.superdiagnostic.values)\n",
    "    y = mlb.transform(Y.superdiagnostic.values)\n",
    "    \n",
    "\n",
    "    # save LabelBinarizer\n",
    "    with open(outputfolder+'mlb.pkl', 'wb') as tokenizer:\n",
    "        pickle.dump(mlb, tokenizer)\n",
    "\n",
    "    return X, Y, y, mlb\n",
    "\n",
    "\n",
    "def load_raw_data_ptbxl(df, sampling_rate, path):\n",
    "    if sampling_rate == 100:\n",
    "        if os.path.exists(path + 'raw100.npy'):\n",
    "            data = np.load(path+'raw100.npy', allow_pickle=True)\n",
    "        else:\n",
    "            data = [wfdb.rdsamp(path+f) for f in tqdm(df.filename_lr)]\n",
    "            data = np.array([signal for signal, meta in data])\n",
    "    elif sampling_rate == 500:\n",
    "        if os.path.exists(path + 'raw500.npy'):\n",
    "            data = np.load(path+\"Serialized\"+'raw500.npy', allow_pickle=True)\n",
    "        else:\n",
    "            data = [wfdb.rdsamp(path+f) for f in tqdm(df.filename_hr)]\n",
    "            data = np.array([signal for signal, meta in data])\n",
    "            pickle.dump(data, open(path+\"Serialized\"+'raw500.npy', 'wb'), protocol=4)\n",
    "    return data\n",
    "\n",
    "\n",
    "\n",
    "def load_dataset(path, sampling_rate):\n",
    "    \n",
    "    # load and convert annotation data\n",
    "    Y = pd.read_csv(path+'ptbxl_database.csv', index_col='ecg_id')\n",
    "    Y.scp_codes = Y.scp_codes.apply(lambda x: ast.literal_eval(x))\n",
    "    # Load raw signal data\n",
    "    X = load_raw_data_ptbxl(Y, sampling_rate, path)\n",
    "\n",
    "    return X, Y\n",
    "\n",
    "\n",
    "def compute_label_aggregations(df, folder, ctype):\n",
    "\n",
    "    df['scp_codes_len'] = df.scp_codes.apply(lambda x: len(x))\n",
    "\n",
    "    aggregation_df = pd.read_csv(folder+'scp_statements.csv', index_col=0)\n",
    "\n",
    "    if ctype in ['diagnostic', 'subdiagnostic', 'superdiagnostic']:\n",
    "\n",
    "        def aggregate_all_diagnostic(y_dic):\n",
    "            tmp = []\n",
    "            for key in y_dic.keys():\n",
    "                if key in diag_agg_df.index:\n",
    "                    tmp.append(key)\n",
    "            return list(set(tmp))\n",
    "\n",
    "        def aggregate_subdiagnostic(y_dic):\n",
    "            tmp = []\n",
    "            for key in y_dic.keys():\n",
    "                if key in diag_agg_df.index:\n",
    "                    c = diag_agg_df.loc[key].diagnostic_subclass\n",
    "                    if str(c) != 'nan':\n",
    "                        tmp.append(c)\n",
    "            return list(set(tmp))\n",
    "\n",
    "        def aggregate_diagnostic(y_dic):\n",
    "            tmp = []\n",
    "            for key in y_dic.keys():\n",
    "                if key in diag_agg_df.index:\n",
    "                    c = diag_agg_df.loc[key].diagnostic_class\n",
    "                    if str(c) != 'nan':\n",
    "                        tmp.append(c)\n",
    "            return list(set(tmp))\n",
    "\n",
    "        diag_agg_df = aggregation_df[aggregation_df.diagnostic == 1.0]\n",
    "        if ctype == 'diagnostic':\n",
    "            df['diagnostic'] = df.scp_codes.apply(aggregate_all_diagnostic)\n",
    "            df['diagnostic_len'] = df.diagnostic.apply(lambda x: len(x))\n",
    "        elif ctype == 'subdiagnostic':\n",
    "            df['subdiagnostic'] = df.scp_codes.apply(aggregate_subdiagnostic)\n",
    "            df['subdiagnostic_len'] = df.subdiagnostic.apply(lambda x: len(x))\n",
    "        elif ctype == 'superdiagnostic':\n",
    "            df['superdiagnostic'] = df.scp_codes.apply(aggregate_diagnostic)\n",
    "            df['superdiagnostic_len'] = df.superdiagnostic.apply(lambda x: len(x))\n",
    "    elif ctype == 'form':\n",
    "        form_agg_df = aggregation_df[aggregation_df.form == 1.0]\n",
    "\n",
    "        def aggregate_form(y_dic):\n",
    "            tmp = []\n",
    "            for key in y_dic.keys():\n",
    "                if key in form_agg_df.index:\n",
    "                    c = key\n",
    "                    if str(c) != 'nan':\n",
    "                        tmp.append(c)\n",
    "            return list(set(tmp))\n",
    "\n",
    "        df['form'] = df.scp_codes.apply(aggregate_form)\n",
    "        df['form_len'] = df.form.apply(lambda x: len(x))\n",
    "    elif ctype == 'rhythm':\n",
    "        rhythm_agg_df = aggregation_df[aggregation_df.rhythm == 1.0]\n",
    "\n",
    "        def aggregate_rhythm(y_dic):\n",
    "            tmp = []\n",
    "            for key in y_dic.keys():\n",
    "                if key in rhythm_agg_df.index:\n",
    "                    c = key\n",
    "                    if str(c) != 'nan':\n",
    "                        tmp.append(c)\n",
    "            return list(set(tmp))\n",
    "\n",
    "        df['rhythm'] = df.scp_codes.apply(aggregate_rhythm)\n",
    "        df['rhythm_len'] = df.rhythm.apply(lambda x: len(x))\n",
    "    elif ctype == 'all':\n",
    "        df['all_scp'] = df.scp_codes.apply(lambda x: list(set(x.keys())))\n",
    "\n",
    "    return df.reset_index(drop=True)"
   ]
  },
  {
   "cell_type": "code",
   "execution_count": 8,
   "id": "fb1d0624",
   "metadata": {
    "execution": {
     "iopub.execute_input": "2021-11-19T13:49:31.583816Z",
     "iopub.status.busy": "2021-11-19T13:49:31.581798Z",
     "iopub.status.idle": "2021-11-19T13:53:55.042873Z",
     "shell.execute_reply": "2021-11-19T13:53:55.043751Z",
     "shell.execute_reply.started": "2021-11-19T13:30:04.872388Z"
    },
    "papermill": {
     "duration": 263.477301,
     "end_time": "2021-11-19T13:53:55.044031",
     "exception": false,
     "start_time": "2021-11-19T13:49:31.566730",
     "status": "completed"
    },
    "tags": []
   },
   "outputs": [
    {
     "name": "stderr",
     "output_type": "stream",
     "text": [
      "100%|██████████| 21837/21837 [01:30<00:00, 240.66it/s]\n"
     ]
    },
    {
     "name": "stdout",
     "output_type": "stream",
     "text": [
      "CPU times: user 1min 10s, sys: 11.3 s, total: 1min 21s\n",
      "Wall time: 1min 37s\n"
     ]
    }
   ],
   "source": [
    "%%time\n",
    "_, agg_df = load_dataset(PATH, 100)\n",
    "\n",
    "def get_file_paths(file_name):\n",
    "    return f\"/users/mac/Downloads/ECG/PTB_XL/{file_name}\"\n",
    "\n",
    "agg_df[\"file_paths\"] = agg_df[\"filename_lr\"].apply(get_file_paths)"
   ]
  },
  {
   "cell_type": "code",
   "execution_count": 9,
   "id": "cf5a78aa",
   "metadata": {
    "execution": {
     "iopub.execute_input": "2021-11-19T13:53:55.074542Z",
     "iopub.status.busy": "2021-11-19T13:53:55.073814Z",
     "iopub.status.idle": "2021-11-19T13:53:59.555713Z",
     "shell.execute_reply": "2021-11-19T13:53:59.555196Z",
     "shell.execute_reply.started": "2021-11-19T13:44:05.879876Z"
    },
    "papermill": {
     "duration": 4.498996,
     "end_time": "2021-11-19T13:53:59.555882",
     "exception": false,
     "start_time": "2021-11-19T13:53:55.056886",
     "status": "completed"
    },
    "tags": []
   },
   "outputs": [
    {
     "name": "stdout",
     "output_type": "stream",
     "text": [
      "CPU times: user 5.3 s, sys: 101 ms, total: 5.4 s\n",
      "Wall time: 5.66 s\n"
     ]
    }
   ],
   "source": [
    "%%time\n",
    "agg_df = agg_df.reset_index(drop=True)\n",
    "labels = compute_label_aggregations(agg_df, PATH, 'superdiagnostic')"
   ]
  },
  {
   "cell_type": "code",
   "execution_count": 10,
   "id": "5de8affb",
   "metadata": {
    "execution": {
     "iopub.execute_input": "2021-11-19T13:53:59.590169Z",
     "iopub.status.busy": "2021-11-19T13:53:59.589241Z",
     "iopub.status.idle": "2021-11-19T13:53:59.592321Z",
     "shell.execute_reply": "2021-11-19T13:53:59.592846Z",
     "shell.execute_reply.started": "2021-11-19T13:44:14.917786Z"
    },
    "papermill": {
     "duration": 0.024869,
     "end_time": "2021-11-19T13:53:59.593028",
     "exception": false,
     "start_time": "2021-11-19T13:53:59.568159",
     "status": "completed"
    },
    "tags": []
   },
   "outputs": [
    {
     "data": {
      "text/plain": [
       "1    16272\n",
       "2     4079\n",
       "3      920\n",
       "0      407\n",
       "4      159\n",
       "Name: superdiagnostic_len, dtype: int64"
      ]
     },
     "execution_count": 10,
     "metadata": {},
     "output_type": "execute_result"
    }
   ],
   "source": [
    "labels.superdiagnostic_len.value_counts()"
   ]
  },
  {
   "cell_type": "code",
   "execution_count": 11,
   "id": "c506c2d5",
   "metadata": {
    "execution": {
     "iopub.execute_input": "2021-11-19T13:53:59.621298Z",
     "iopub.status.busy": "2021-11-19T13:53:59.620568Z",
     "iopub.status.idle": "2021-11-19T13:53:59.625389Z",
     "shell.execute_reply": "2021-11-19T13:53:59.626008Z",
     "shell.execute_reply.started": "2021-11-19T13:44:21.690698Z"
    },
    "papermill": {
     "duration": 0.020655,
     "end_time": "2021-11-19T13:53:59.626187",
     "exception": false,
     "start_time": "2021-11-19T13:53:59.605532",
     "status": "completed"
    },
    "tags": []
   },
   "outputs": [
    {
     "data": {
      "text/plain": [
       "'/users/mac/Downloads/ECG/PTB_XL/records100/00000/00001_lr'"
      ]
     },
     "execution_count": 11,
     "metadata": {},
     "output_type": "execute_result"
    }
   ],
   "source": [
    "labels['file_paths'][0]"
   ]
  },
  {
   "cell_type": "code",
   "execution_count": 12,
   "id": "06179c3f",
   "metadata": {
    "execution": {
     "iopub.execute_input": "2021-11-19T13:53:59.654965Z",
     "iopub.status.busy": "2021-11-19T13:53:59.654335Z",
     "iopub.status.idle": "2021-11-19T13:53:59.696251Z",
     "shell.execute_reply": "2021-11-19T13:53:59.695394Z",
     "shell.execute_reply.started": "2021-11-19T13:44:33.049346Z"
    },
    "papermill": {
     "duration": 0.057399,
     "end_time": "2021-11-19T13:53:59.696457",
     "exception": false,
     "start_time": "2021-11-19T13:53:59.639058",
     "status": "completed"
    },
    "tags": []
   },
   "outputs": [
    {
     "name": "stdout",
     "output_type": "stream",
     "text": [
      "Patient that have 'NORM' in their diagnostic is: 445\n"
     ]
    }
   ],
   "source": [
    "labels = labels.loc[labels['superdiagnostic_len'] != 0]\n",
    "filtration = labels[\"superdiagnostic\"].apply(lambda x: 1 if \"NORM\" in x and len(x) > 1 else 0)\n",
    "print(f\"Patient that have 'NORM' in their diagnostic is: {sum(filtration == 1)}\")\n",
    "labels = labels[filtration < 1]"
   ]
  },
  {
   "cell_type": "code",
   "execution_count": 13,
   "id": "595504bb",
   "metadata": {
    "execution": {
     "iopub.execute_input": "2021-11-19T13:53:59.731501Z",
     "iopub.status.busy": "2021-11-19T13:53:59.730646Z",
     "iopub.status.idle": "2021-11-19T13:53:59.734022Z",
     "shell.execute_reply": "2021-11-19T13:53:59.734465Z",
     "shell.execute_reply.started": "2021-11-19T13:44:35.638426Z"
    },
    "papermill": {
     "duration": 0.024141,
     "end_time": "2021-11-19T13:53:59.734639",
     "exception": false,
     "start_time": "2021-11-19T13:53:59.710498",
     "status": "completed"
    },
    "tags": []
   },
   "outputs": [
    {
     "data": {
      "text/plain": [
       "1    16272\n",
       "2     3642\n",
       "3      913\n",
       "4      158\n",
       "Name: superdiagnostic_len, dtype: int64"
      ]
     },
     "execution_count": 13,
     "metadata": {},
     "output_type": "execute_result"
    }
   ],
   "source": [
    "labels.superdiagnostic_len.value_counts()"
   ]
  },
  {
   "cell_type": "code",
   "execution_count": 14,
   "id": "c21934b8",
   "metadata": {
    "execution": {
     "iopub.execute_input": "2021-11-19T13:53:59.765847Z",
     "iopub.status.busy": "2021-11-19T13:53:59.765177Z",
     "iopub.status.idle": "2021-11-19T13:53:59.771119Z",
     "shell.execute_reply": "2021-11-19T13:53:59.770544Z",
     "shell.execute_reply.started": "2021-11-19T13:44:47.033177Z"
    },
    "papermill": {
     "duration": 0.023039,
     "end_time": "2021-11-19T13:53:59.771262",
     "exception": false,
     "start_time": "2021-11-19T13:53:59.748223",
     "status": "completed"
    },
    "tags": []
   },
   "outputs": [],
   "source": [
    "def generate_signal(file_path, out_dir):\n",
    "    \n",
    "    # Extract the name_file from path_name\n",
    "    file_name = file_path.split('/')[-1].split('_')[0]\n",
    "    # Read patient record\n",
    "    records = wfdb.rdsamp(file_path)\n",
    "    records_signal, _ = records\n",
    "    records_signal = records_signal.astype(np.float32)\n",
    "    np.save(out_dir + file_name, records_signal)\n",
    "        \n",
    "    return file_name"
   ]
  },
  {
   "cell_type": "code",
   "execution_count": 15,
   "id": "35cf0127",
   "metadata": {
    "execution": {
     "iopub.execute_input": "2021-11-19T13:53:59.811511Z",
     "iopub.status.busy": "2021-11-19T13:53:59.810785Z",
     "iopub.status.idle": "2021-11-19T13:56:26.198636Z",
     "shell.execute_reply": "2021-11-19T13:56:26.202628Z",
     "shell.execute_reply.started": "2021-11-19T13:44:55.240935Z"
    },
    "papermill": {
     "duration": 146.418324,
     "end_time": "2021-11-19T13:56:26.203299",
     "exception": false,
     "start_time": "2021-11-19T13:53:59.784975",
     "status": "completed"
    },
    "tags": []
   },
   "outputs": [
    {
     "name": "stderr",
     "output_type": "stream",
     "text": [
      "  0%|          | 0/20985 [00:00<?, ?it/s][Parallel(n_jobs=-1)]: Using backend LokyBackend with 8 concurrent workers.\n",
      "  0%|          | 16/20985 [00:02<57:46,  6.05it/s] "
     ]
    },
    {
     "ename": "FileNotFoundError",
     "evalue": "[Errno 2] No such file or directory: '/users/mac/Downloads/ECG/PTB_XL/ptbxl_data_signals100/00001.npy'",
     "output_type": "error",
     "traceback": [
      "\u001b[0;31m---------------------------------------------------------------------------\u001b[0m",
      "\u001b[0;31m_RemoteTraceback\u001b[0m                          Traceback (most recent call last)",
      "\u001b[0;31m_RemoteTraceback\u001b[0m: \n\"\"\"\nTraceback (most recent call last):\n  File \"/Users/mac/anaconda3/lib/python3.7/site-packages/joblib/externals/loky/process_executor.py\", line 418, in _process_worker\n    r = call_item()\n  File \"/Users/mac/anaconda3/lib/python3.7/site-packages/joblib/externals/loky/process_executor.py\", line 272, in __call__\n    return self.fn(*self.args, **self.kwargs)\n  File \"/Users/mac/anaconda3/lib/python3.7/site-packages/joblib/_parallel_backends.py\", line 567, in __call__\n    return self.func(*args, **kwargs)\n  File \"/Users/mac/anaconda3/lib/python3.7/site-packages/joblib/parallel.py\", line 225, in __call__\n    for func, args, kwargs in self.items]\n  File \"/Users/mac/anaconda3/lib/python3.7/site-packages/joblib/parallel.py\", line 225, in <listcomp>\n    for func, args, kwargs in self.items]\n  File \"<ipython-input-14-39c542b202ab>\", line 9, in generate_signal\n  File \"<__array_function__ internals>\", line 6, in save\n  File \"/Users/mac/anaconda3/lib/python3.7/site-packages/numpy/lib/npyio.py\", line 525, in save\n    file_ctx = open(file, \"wb\")\nFileNotFoundError: [Errno 2] No such file or directory: '/users/mac/Downloads/ECG/PTB_XL/ptbxl_data_signals100/00001.npy'\n\"\"\"",
      "\nThe above exception was the direct cause of the following exception:\n",
      "\u001b[0;31mFileNotFoundError\u001b[0m                         Traceback (most recent call last)",
      "\u001b[0;32m<ipython-input-15-c9a780f95523>\u001b[0m in \u001b[0;36m<module>\u001b[0;34m\u001b[0m\n\u001b[1;32m      1\u001b[0m file_name = joblib.Parallel(n_jobs=-1, verbose=1)(\n\u001b[0;32m----> 2\u001b[0;31m     \u001b[0mjoblib\u001b[0m\u001b[0;34m.\u001b[0m\u001b[0mdelayed\u001b[0m\u001b[0;34m(\u001b[0m\u001b[0mgenerate_signal\u001b[0m\u001b[0;34m)\u001b[0m\u001b[0;34m(\u001b[0m\u001b[0mfile_path\u001b[0m\u001b[0;34m,\u001b[0m \u001b[0mOUTPUT_DIR\u001b[0m\u001b[0;34m)\u001b[0m \u001b[0;32mfor\u001b[0m \u001b[0mfile_path\u001b[0m \u001b[0;32min\u001b[0m \u001b[0mtqdm\u001b[0m\u001b[0;34m(\u001b[0m\u001b[0mlabels\u001b[0m\u001b[0;34m[\u001b[0m\u001b[0;34m'file_paths'\u001b[0m\u001b[0;34m]\u001b[0m\u001b[0;34m.\u001b[0m\u001b[0mvalues\u001b[0m\u001b[0;34m)\u001b[0m\u001b[0;34m\u001b[0m\u001b[0;34m\u001b[0m\u001b[0m\n\u001b[0m\u001b[1;32m      3\u001b[0m )\n\u001b[1;32m      4\u001b[0m \u001b[0mlabels\u001b[0m\u001b[0;34m[\u001b[0m\u001b[0;34m\"signal_filename\"\u001b[0m\u001b[0;34m]\u001b[0m \u001b[0;34m=\u001b[0m \u001b[0mfile_name\u001b[0m\u001b[0;34m\u001b[0m\u001b[0;34m\u001b[0m\u001b[0m\n\u001b[1;32m      5\u001b[0m \u001b[0mshutil\u001b[0m\u001b[0;34m.\u001b[0m\u001b[0mmake_archive\u001b[0m\u001b[0;34m(\u001b[0m\u001b[0mOUTPUT_DIR\u001b[0m\u001b[0;34m,\u001b[0m \u001b[0;34m'zip'\u001b[0m\u001b[0;34m,\u001b[0m \u001b[0mOUTPUT_DIR\u001b[0m\u001b[0;34m)\u001b[0m\u001b[0;34m\u001b[0m\u001b[0;34m\u001b[0m\u001b[0m\n",
      "\u001b[0;32m~/anaconda3/lib/python3.7/site-packages/joblib/parallel.py\u001b[0m in \u001b[0;36m__call__\u001b[0;34m(self, iterable)\u001b[0m\n\u001b[1;32m    932\u001b[0m \u001b[0;34m\u001b[0m\u001b[0m\n\u001b[1;32m    933\u001b[0m             \u001b[0;32mwith\u001b[0m \u001b[0mself\u001b[0m\u001b[0;34m.\u001b[0m\u001b[0m_backend\u001b[0m\u001b[0;34m.\u001b[0m\u001b[0mretrieval_context\u001b[0m\u001b[0;34m(\u001b[0m\u001b[0;34m)\u001b[0m\u001b[0;34m:\u001b[0m\u001b[0;34m\u001b[0m\u001b[0;34m\u001b[0m\u001b[0m\n\u001b[0;32m--> 934\u001b[0;31m                 \u001b[0mself\u001b[0m\u001b[0;34m.\u001b[0m\u001b[0mretrieve\u001b[0m\u001b[0;34m(\u001b[0m\u001b[0;34m)\u001b[0m\u001b[0;34m\u001b[0m\u001b[0;34m\u001b[0m\u001b[0m\n\u001b[0m\u001b[1;32m    935\u001b[0m             \u001b[0;31m# Make sure that we get a last message telling us we are done\u001b[0m\u001b[0;34m\u001b[0m\u001b[0;34m\u001b[0m\u001b[0;34m\u001b[0m\u001b[0m\n\u001b[1;32m    936\u001b[0m             \u001b[0melapsed_time\u001b[0m \u001b[0;34m=\u001b[0m \u001b[0mtime\u001b[0m\u001b[0;34m.\u001b[0m\u001b[0mtime\u001b[0m\u001b[0;34m(\u001b[0m\u001b[0;34m)\u001b[0m \u001b[0;34m-\u001b[0m \u001b[0mself\u001b[0m\u001b[0;34m.\u001b[0m\u001b[0m_start_time\u001b[0m\u001b[0;34m\u001b[0m\u001b[0;34m\u001b[0m\u001b[0m\n",
      "\u001b[0;32m~/anaconda3/lib/python3.7/site-packages/joblib/parallel.py\u001b[0m in \u001b[0;36mretrieve\u001b[0;34m(self)\u001b[0m\n\u001b[1;32m    831\u001b[0m             \u001b[0;32mtry\u001b[0m\u001b[0;34m:\u001b[0m\u001b[0;34m\u001b[0m\u001b[0;34m\u001b[0m\u001b[0m\n\u001b[1;32m    832\u001b[0m                 \u001b[0;32mif\u001b[0m \u001b[0mgetattr\u001b[0m\u001b[0;34m(\u001b[0m\u001b[0mself\u001b[0m\u001b[0;34m.\u001b[0m\u001b[0m_backend\u001b[0m\u001b[0;34m,\u001b[0m \u001b[0;34m'supports_timeout'\u001b[0m\u001b[0;34m,\u001b[0m \u001b[0;32mFalse\u001b[0m\u001b[0;34m)\u001b[0m\u001b[0;34m:\u001b[0m\u001b[0;34m\u001b[0m\u001b[0;34m\u001b[0m\u001b[0m\n\u001b[0;32m--> 833\u001b[0;31m                     \u001b[0mself\u001b[0m\u001b[0;34m.\u001b[0m\u001b[0m_output\u001b[0m\u001b[0;34m.\u001b[0m\u001b[0mextend\u001b[0m\u001b[0;34m(\u001b[0m\u001b[0mjob\u001b[0m\u001b[0;34m.\u001b[0m\u001b[0mget\u001b[0m\u001b[0;34m(\u001b[0m\u001b[0mtimeout\u001b[0m\u001b[0;34m=\u001b[0m\u001b[0mself\u001b[0m\u001b[0;34m.\u001b[0m\u001b[0mtimeout\u001b[0m\u001b[0;34m)\u001b[0m\u001b[0;34m)\u001b[0m\u001b[0;34m\u001b[0m\u001b[0;34m\u001b[0m\u001b[0m\n\u001b[0m\u001b[1;32m    834\u001b[0m                 \u001b[0;32melse\u001b[0m\u001b[0;34m:\u001b[0m\u001b[0;34m\u001b[0m\u001b[0;34m\u001b[0m\u001b[0m\n\u001b[1;32m    835\u001b[0m                     \u001b[0mself\u001b[0m\u001b[0;34m.\u001b[0m\u001b[0m_output\u001b[0m\u001b[0;34m.\u001b[0m\u001b[0mextend\u001b[0m\u001b[0;34m(\u001b[0m\u001b[0mjob\u001b[0m\u001b[0;34m.\u001b[0m\u001b[0mget\u001b[0m\u001b[0;34m(\u001b[0m\u001b[0;34m)\u001b[0m\u001b[0;34m)\u001b[0m\u001b[0;34m\u001b[0m\u001b[0;34m\u001b[0m\u001b[0m\n",
      "\u001b[0;32m~/anaconda3/lib/python3.7/site-packages/joblib/_parallel_backends.py\u001b[0m in \u001b[0;36mwrap_future_result\u001b[0;34m(future, timeout)\u001b[0m\n\u001b[1;32m    519\u001b[0m         AsyncResults.get from multiprocessing.\"\"\"\n\u001b[1;32m    520\u001b[0m         \u001b[0;32mtry\u001b[0m\u001b[0;34m:\u001b[0m\u001b[0;34m\u001b[0m\u001b[0;34m\u001b[0m\u001b[0m\n\u001b[0;32m--> 521\u001b[0;31m             \u001b[0;32mreturn\u001b[0m \u001b[0mfuture\u001b[0m\u001b[0;34m.\u001b[0m\u001b[0mresult\u001b[0m\u001b[0;34m(\u001b[0m\u001b[0mtimeout\u001b[0m\u001b[0;34m=\u001b[0m\u001b[0mtimeout\u001b[0m\u001b[0;34m)\u001b[0m\u001b[0;34m\u001b[0m\u001b[0;34m\u001b[0m\u001b[0m\n\u001b[0m\u001b[1;32m    522\u001b[0m         \u001b[0;32mexcept\u001b[0m \u001b[0mLokyTimeoutError\u001b[0m\u001b[0;34m:\u001b[0m\u001b[0;34m\u001b[0m\u001b[0;34m\u001b[0m\u001b[0m\n\u001b[1;32m    523\u001b[0m             \u001b[0;32mraise\u001b[0m \u001b[0mTimeoutError\u001b[0m\u001b[0;34m(\u001b[0m\u001b[0;34m)\u001b[0m\u001b[0;34m\u001b[0m\u001b[0;34m\u001b[0m\u001b[0m\n",
      "\u001b[0;32m~/anaconda3/lib/python3.7/concurrent/futures/_base.py\u001b[0m in \u001b[0;36mresult\u001b[0;34m(self, timeout)\u001b[0m\n\u001b[1;32m    430\u001b[0m                 \u001b[0;32mraise\u001b[0m \u001b[0mCancelledError\u001b[0m\u001b[0;34m(\u001b[0m\u001b[0;34m)\u001b[0m\u001b[0;34m\u001b[0m\u001b[0;34m\u001b[0m\u001b[0m\n\u001b[1;32m    431\u001b[0m             \u001b[0;32melif\u001b[0m \u001b[0mself\u001b[0m\u001b[0;34m.\u001b[0m\u001b[0m_state\u001b[0m \u001b[0;34m==\u001b[0m \u001b[0mFINISHED\u001b[0m\u001b[0;34m:\u001b[0m\u001b[0;34m\u001b[0m\u001b[0;34m\u001b[0m\u001b[0m\n\u001b[0;32m--> 432\u001b[0;31m                 \u001b[0;32mreturn\u001b[0m \u001b[0mself\u001b[0m\u001b[0;34m.\u001b[0m\u001b[0m__get_result\u001b[0m\u001b[0;34m(\u001b[0m\u001b[0;34m)\u001b[0m\u001b[0;34m\u001b[0m\u001b[0;34m\u001b[0m\u001b[0m\n\u001b[0m\u001b[1;32m    433\u001b[0m             \u001b[0;32melse\u001b[0m\u001b[0;34m:\u001b[0m\u001b[0;34m\u001b[0m\u001b[0;34m\u001b[0m\u001b[0m\n\u001b[1;32m    434\u001b[0m                 \u001b[0;32mraise\u001b[0m \u001b[0mTimeoutError\u001b[0m\u001b[0;34m(\u001b[0m\u001b[0;34m)\u001b[0m\u001b[0;34m\u001b[0m\u001b[0;34m\u001b[0m\u001b[0m\n",
      "\u001b[0;32m~/anaconda3/lib/python3.7/concurrent/futures/_base.py\u001b[0m in \u001b[0;36m__get_result\u001b[0;34m(self)\u001b[0m\n\u001b[1;32m    382\u001b[0m     \u001b[0;32mdef\u001b[0m \u001b[0m__get_result\u001b[0m\u001b[0;34m(\u001b[0m\u001b[0mself\u001b[0m\u001b[0;34m)\u001b[0m\u001b[0;34m:\u001b[0m\u001b[0;34m\u001b[0m\u001b[0;34m\u001b[0m\u001b[0m\n\u001b[1;32m    383\u001b[0m         \u001b[0;32mif\u001b[0m \u001b[0mself\u001b[0m\u001b[0;34m.\u001b[0m\u001b[0m_exception\u001b[0m\u001b[0;34m:\u001b[0m\u001b[0;34m\u001b[0m\u001b[0;34m\u001b[0m\u001b[0m\n\u001b[0;32m--> 384\u001b[0;31m             \u001b[0;32mraise\u001b[0m \u001b[0mself\u001b[0m\u001b[0;34m.\u001b[0m\u001b[0m_exception\u001b[0m\u001b[0;34m\u001b[0m\u001b[0;34m\u001b[0m\u001b[0m\n\u001b[0m\u001b[1;32m    385\u001b[0m         \u001b[0;32melse\u001b[0m\u001b[0;34m:\u001b[0m\u001b[0;34m\u001b[0m\u001b[0;34m\u001b[0m\u001b[0m\n\u001b[1;32m    386\u001b[0m             \u001b[0;32mreturn\u001b[0m \u001b[0mself\u001b[0m\u001b[0;34m.\u001b[0m\u001b[0m_result\u001b[0m\u001b[0;34m\u001b[0m\u001b[0;34m\u001b[0m\u001b[0m\n",
      "\u001b[0;31mFileNotFoundError\u001b[0m: [Errno 2] No such file or directory: '/users/mac/Downloads/ECG/PTB_XL/ptbxl_data_signals100/00001.npy'"
     ]
    }
   ],
   "source": [
    "file_name = joblib.Parallel(n_jobs=-1, verbose=1)(\n",
    "    joblib.delayed(generate_signal)(file_path, OUTPUT_DIR) for file_path in tqdm(labels['file_paths'].values)\n",
    ")\n",
    "labels[\"signal_filename\"] = file_name\n",
    "shutil.make_archive(OUTPUT_DIR, 'zip', OUTPUT_DIR)\n",
    "shutil.rmtree(OUTPUT_DIR)"
   ]
  },
  {
   "cell_type": "code",
   "execution_count": null,
   "id": "4f5808f0",
   "metadata": {
    "execution": {
     "iopub.execute_input": "2021-11-19T13:56:26.411031Z",
     "iopub.status.busy": "2021-11-19T13:56:26.409909Z",
     "iopub.status.idle": "2021-11-19T13:56:26.420822Z",
     "shell.execute_reply": "2021-11-19T13:56:26.420258Z",
     "shell.execute_reply.started": "2021-11-19T13:47:32.310237Z"
    },
    "papermill": {
     "duration": 0.198804,
     "end_time": "2021-11-19T13:56:26.420996",
     "exception": false,
     "start_time": "2021-11-19T13:56:26.222192",
     "status": "completed"
    },
    "tags": []
   },
   "outputs": [
    {
     "data": {
      "text/plain": [
       "'00001'"
      ]
     },
     "execution_count": 11,
     "metadata": {},
     "output_type": "execute_result"
    }
   ],
   "source": [
    "labels[\"signal_filename\"][0]"
   ]
  },
  {
   "cell_type": "code",
   "execution_count": null,
   "id": "93fe6639",
   "metadata": {
    "execution": {
     "iopub.execute_input": "2021-11-19T13:56:26.461536Z",
     "iopub.status.busy": "2021-11-19T13:56:26.460334Z",
     "iopub.status.idle": "2021-11-19T13:56:27.148138Z",
     "shell.execute_reply": "2021-11-19T13:56:27.148669Z"
    },
    "papermill": {
     "duration": 0.711669,
     "end_time": "2021-11-19T13:56:27.148909",
     "exception": false,
     "start_time": "2021-11-19T13:56:26.437240",
     "status": "completed"
    },
    "tags": []
   },
   "outputs": [],
   "source": [
    "labels[labels['strat_fold'] != 10].to_csv('ptbxl_ecg_train.csv', sep=',', index=False)\n",
    "labels[labels['strat_fold'] == 10].to_csv('ptbxl_ecg_test.csv', sep=',', index=False)"
   ]
  },
  {
   "cell_type": "code",
   "execution_count": null,
   "id": "b719b6e4",
   "metadata": {},
   "outputs": [],
   "source": []
  }
 ],
 "metadata": {
  "kernelspec": {
   "display_name": "Python 3",
   "language": "python",
   "name": "python3"
  },
  "language_info": {
   "codemirror_mode": {
    "name": "ipython",
    "version": 3
   },
   "file_extension": ".py",
   "mimetype": "text/x-python",
   "name": "python",
   "nbconvert_exporter": "python",
   "pygments_lexer": "ipython3",
   "version": "3.7.1"
  },
  "papermill": {
   "default_parameters": {},
   "duration": 427.16268,
   "end_time": "2021-11-19T13:56:28.282342",
   "environment_variables": {},
   "exception": null,
   "input_path": "__notebook__.ipynb",
   "output_path": "__notebook__.ipynb",
   "parameters": {},
   "start_time": "2021-11-19T13:49:21.119662",
   "version": "2.3.3"
  },
  "widgets": {
   "application/vnd.jupyter.widget-state+json": {
    "state": {
     "0f6197dc77f34ed4b58dc1c9fa5fcdd5": {
      "model_module": "@jupyter-widgets/controls",
      "model_module_version": "1.5.0",
      "model_name": "ProgressStyleModel",
      "state": {
       "_model_module": "@jupyter-widgets/controls",
       "_model_module_version": "1.5.0",
       "_model_name": "ProgressStyleModel",
       "_view_count": null,
       "_view_module": "@jupyter-widgets/base",
       "_view_module_version": "1.2.0",
       "_view_name": "StyleView",
       "bar_color": null,
       "description_width": ""
      }
     },
     "107658caa6ab49018a9989ad4d52f826": {
      "model_module": "@jupyter-widgets/controls",
      "model_module_version": "1.5.0",
      "model_name": "HTMLModel",
      "state": {
       "_dom_classes": [],
       "_model_module": "@jupyter-widgets/controls",
       "_model_module_version": "1.5.0",
       "_model_name": "HTMLModel",
       "_view_count": null,
       "_view_module": "@jupyter-widgets/controls",
       "_view_module_version": "1.5.0",
       "_view_name": "HTMLView",
       "description": "",
       "description_tooltip": null,
       "layout": "IPY_MODEL_5581bf3f353b4aae9df2560c5396d7db",
       "placeholder": "​",
       "style": "IPY_MODEL_8728f76eea25423f9ab792dc65e88f91",
       "value": "100%"
      }
     },
     "12cd357e65f4405f80cf923193df0173": {
      "model_module": "@jupyter-widgets/controls",
      "model_module_version": "1.5.0",
      "model_name": "ProgressStyleModel",
      "state": {
       "_model_module": "@jupyter-widgets/controls",
       "_model_module_version": "1.5.0",
       "_model_name": "ProgressStyleModel",
       "_view_count": null,
       "_view_module": "@jupyter-widgets/base",
       "_view_module_version": "1.2.0",
       "_view_name": "StyleView",
       "bar_color": null,
       "description_width": ""
      }
     },
     "15dedaa3f01d481ab8c363bcc6b040a6": {
      "model_module": "@jupyter-widgets/base",
      "model_module_version": "1.2.0",
      "model_name": "LayoutModel",
      "state": {
       "_model_module": "@jupyter-widgets/base",
       "_model_module_version": "1.2.0",
       "_model_name": "LayoutModel",
       "_view_count": null,
       "_view_module": "@jupyter-widgets/base",
       "_view_module_version": "1.2.0",
       "_view_name": "LayoutView",
       "align_content": null,
       "align_items": null,
       "align_self": null,
       "border": null,
       "bottom": null,
       "display": null,
       "flex": null,
       "flex_flow": null,
       "grid_area": null,
       "grid_auto_columns": null,
       "grid_auto_flow": null,
       "grid_auto_rows": null,
       "grid_column": null,
       "grid_gap": null,
       "grid_row": null,
       "grid_template_areas": null,
       "grid_template_columns": null,
       "grid_template_rows": null,
       "height": null,
       "justify_content": null,
       "justify_items": null,
       "left": null,
       "margin": null,
       "max_height": null,
       "max_width": null,
       "min_height": null,
       "min_width": null,
       "object_fit": null,
       "object_position": null,
       "order": null,
       "overflow": null,
       "overflow_x": null,
       "overflow_y": null,
       "padding": null,
       "right": null,
       "top": null,
       "visibility": null,
       "width": null
      }
     },
     "1949171bdf4f4d42b8e35b4c5457a2ca": {
      "model_module": "@jupyter-widgets/base",
      "model_module_version": "1.2.0",
      "model_name": "LayoutModel",
      "state": {
       "_model_module": "@jupyter-widgets/base",
       "_model_module_version": "1.2.0",
       "_model_name": "LayoutModel",
       "_view_count": null,
       "_view_module": "@jupyter-widgets/base",
       "_view_module_version": "1.2.0",
       "_view_name": "LayoutView",
       "align_content": null,
       "align_items": null,
       "align_self": null,
       "border": null,
       "bottom": null,
       "display": null,
       "flex": null,
       "flex_flow": null,
       "grid_area": null,
       "grid_auto_columns": null,
       "grid_auto_flow": null,
       "grid_auto_rows": null,
       "grid_column": null,
       "grid_gap": null,
       "grid_row": null,
       "grid_template_areas": null,
       "grid_template_columns": null,
       "grid_template_rows": null,
       "height": null,
       "justify_content": null,
       "justify_items": null,
       "left": null,
       "margin": null,
       "max_height": null,
       "max_width": null,
       "min_height": null,
       "min_width": null,
       "object_fit": null,
       "object_position": null,
       "order": null,
       "overflow": null,
       "overflow_x": null,
       "overflow_y": null,
       "padding": null,
       "right": null,
       "top": null,
       "visibility": null,
       "width": null
      }
     },
     "296584e3cfcf4e4793a3eee2bba7358a": {
      "model_module": "@jupyter-widgets/base",
      "model_module_version": "1.2.0",
      "model_name": "LayoutModel",
      "state": {
       "_model_module": "@jupyter-widgets/base",
       "_model_module_version": "1.2.0",
       "_model_name": "LayoutModel",
       "_view_count": null,
       "_view_module": "@jupyter-widgets/base",
       "_view_module_version": "1.2.0",
       "_view_name": "LayoutView",
       "align_content": null,
       "align_items": null,
       "align_self": null,
       "border": null,
       "bottom": null,
       "display": null,
       "flex": null,
       "flex_flow": null,
       "grid_area": null,
       "grid_auto_columns": null,
       "grid_auto_flow": null,
       "grid_auto_rows": null,
       "grid_column": null,
       "grid_gap": null,
       "grid_row": null,
       "grid_template_areas": null,
       "grid_template_columns": null,
       "grid_template_rows": null,
       "height": null,
       "justify_content": null,
       "justify_items": null,
       "left": null,
       "margin": null,
       "max_height": null,
       "max_width": null,
       "min_height": null,
       "min_width": null,
       "object_fit": null,
       "object_position": null,
       "order": null,
       "overflow": null,
       "overflow_x": null,
       "overflow_y": null,
       "padding": null,
       "right": null,
       "top": null,
       "visibility": null,
       "width": null
      }
     },
     "37e6ca31546c4072a361779bb20ae34d": {
      "model_module": "@jupyter-widgets/base",
      "model_module_version": "1.2.0",
      "model_name": "LayoutModel",
      "state": {
       "_model_module": "@jupyter-widgets/base",
       "_model_module_version": "1.2.0",
       "_model_name": "LayoutModel",
       "_view_count": null,
       "_view_module": "@jupyter-widgets/base",
       "_view_module_version": "1.2.0",
       "_view_name": "LayoutView",
       "align_content": null,
       "align_items": null,
       "align_self": null,
       "border": null,
       "bottom": null,
       "display": null,
       "flex": null,
       "flex_flow": null,
       "grid_area": null,
       "grid_auto_columns": null,
       "grid_auto_flow": null,
       "grid_auto_rows": null,
       "grid_column": null,
       "grid_gap": null,
       "grid_row": null,
       "grid_template_areas": null,
       "grid_template_columns": null,
       "grid_template_rows": null,
       "height": null,
       "justify_content": null,
       "justify_items": null,
       "left": null,
       "margin": null,
       "max_height": null,
       "max_width": null,
       "min_height": null,
       "min_width": null,
       "object_fit": null,
       "object_position": null,
       "order": null,
       "overflow": null,
       "overflow_x": null,
       "overflow_y": null,
       "padding": null,
       "right": null,
       "top": null,
       "visibility": null,
       "width": null
      }
     },
     "46e901d9723949e096442f88a0f35a4c": {
      "model_module": "@jupyter-widgets/controls",
      "model_module_version": "1.5.0",
      "model_name": "DescriptionStyleModel",
      "state": {
       "_model_module": "@jupyter-widgets/controls",
       "_model_module_version": "1.5.0",
       "_model_name": "DescriptionStyleModel",
       "_view_count": null,
       "_view_module": "@jupyter-widgets/base",
       "_view_module_version": "1.2.0",
       "_view_name": "StyleView",
       "description_width": ""
      }
     },
     "5186a6896a3d430c8a2e0d28d104357b": {
      "model_module": "@jupyter-widgets/base",
      "model_module_version": "1.2.0",
      "model_name": "LayoutModel",
      "state": {
       "_model_module": "@jupyter-widgets/base",
       "_model_module_version": "1.2.0",
       "_model_name": "LayoutModel",
       "_view_count": null,
       "_view_module": "@jupyter-widgets/base",
       "_view_module_version": "1.2.0",
       "_view_name": "LayoutView",
       "align_content": null,
       "align_items": null,
       "align_self": null,
       "border": null,
       "bottom": null,
       "display": null,
       "flex": null,
       "flex_flow": null,
       "grid_area": null,
       "grid_auto_columns": null,
       "grid_auto_flow": null,
       "grid_auto_rows": null,
       "grid_column": null,
       "grid_gap": null,
       "grid_row": null,
       "grid_template_areas": null,
       "grid_template_columns": null,
       "grid_template_rows": null,
       "height": null,
       "justify_content": null,
       "justify_items": null,
       "left": null,
       "margin": null,
       "max_height": null,
       "max_width": null,
       "min_height": null,
       "min_width": null,
       "object_fit": null,
       "object_position": null,
       "order": null,
       "overflow": null,
       "overflow_x": null,
       "overflow_y": null,
       "padding": null,
       "right": null,
       "top": null,
       "visibility": null,
       "width": null
      }
     },
     "5581bf3f353b4aae9df2560c5396d7db": {
      "model_module": "@jupyter-widgets/base",
      "model_module_version": "1.2.0",
      "model_name": "LayoutModel",
      "state": {
       "_model_module": "@jupyter-widgets/base",
       "_model_module_version": "1.2.0",
       "_model_name": "LayoutModel",
       "_view_count": null,
       "_view_module": "@jupyter-widgets/base",
       "_view_module_version": "1.2.0",
       "_view_name": "LayoutView",
       "align_content": null,
       "align_items": null,
       "align_self": null,
       "border": null,
       "bottom": null,
       "display": null,
       "flex": null,
       "flex_flow": null,
       "grid_area": null,
       "grid_auto_columns": null,
       "grid_auto_flow": null,
       "grid_auto_rows": null,
       "grid_column": null,
       "grid_gap": null,
       "grid_row": null,
       "grid_template_areas": null,
       "grid_template_columns": null,
       "grid_template_rows": null,
       "height": null,
       "justify_content": null,
       "justify_items": null,
       "left": null,
       "margin": null,
       "max_height": null,
       "max_width": null,
       "min_height": null,
       "min_width": null,
       "object_fit": null,
       "object_position": null,
       "order": null,
       "overflow": null,
       "overflow_x": null,
       "overflow_y": null,
       "padding": null,
       "right": null,
       "top": null,
       "visibility": null,
       "width": null
      }
     },
     "59725961aa6646b699a65727ec460c3c": {
      "model_module": "@jupyter-widgets/controls",
      "model_module_version": "1.5.0",
      "model_name": "HBoxModel",
      "state": {
       "_dom_classes": [],
       "_model_module": "@jupyter-widgets/controls",
       "_model_module_version": "1.5.0",
       "_model_name": "HBoxModel",
       "_view_count": null,
       "_view_module": "@jupyter-widgets/controls",
       "_view_module_version": "1.5.0",
       "_view_name": "HBoxView",
       "box_style": "",
       "children": [
        "IPY_MODEL_107658caa6ab49018a9989ad4d52f826",
        "IPY_MODEL_dca8ce3ab2154dc7a045ddea48e3d280",
        "IPY_MODEL_ac5f31cdac7e436f9a2a1a09222f73d1"
       ],
       "layout": "IPY_MODEL_5186a6896a3d430c8a2e0d28d104357b"
      }
     },
     "66c6cc7be06d42419a09903508c418e6": {
      "model_module": "@jupyter-widgets/controls",
      "model_module_version": "1.5.0",
      "model_name": "FloatProgressModel",
      "state": {
       "_dom_classes": [],
       "_model_module": "@jupyter-widgets/controls",
       "_model_module_version": "1.5.0",
       "_model_name": "FloatProgressModel",
       "_view_count": null,
       "_view_module": "@jupyter-widgets/controls",
       "_view_module_version": "1.5.0",
       "_view_name": "ProgressView",
       "bar_style": "success",
       "description": "",
       "description_tooltip": null,
       "layout": "IPY_MODEL_37e6ca31546c4072a361779bb20ae34d",
       "max": 20985,
       "min": 0,
       "orientation": "horizontal",
       "style": "IPY_MODEL_12cd357e65f4405f80cf923193df0173",
       "value": 20985
      }
     },
     "8728f76eea25423f9ab792dc65e88f91": {
      "model_module": "@jupyter-widgets/controls",
      "model_module_version": "1.5.0",
      "model_name": "DescriptionStyleModel",
      "state": {
       "_model_module": "@jupyter-widgets/controls",
       "_model_module_version": "1.5.0",
       "_model_name": "DescriptionStyleModel",
       "_view_count": null,
       "_view_module": "@jupyter-widgets/base",
       "_view_module_version": "1.2.0",
       "_view_name": "StyleView",
       "description_width": ""
      }
     },
     "89783bd2948e45b9a196c5012bee4f94": {
      "model_module": "@jupyter-widgets/base",
      "model_module_version": "1.2.0",
      "model_name": "LayoutModel",
      "state": {
       "_model_module": "@jupyter-widgets/base",
       "_model_module_version": "1.2.0",
       "_model_name": "LayoutModel",
       "_view_count": null,
       "_view_module": "@jupyter-widgets/base",
       "_view_module_version": "1.2.0",
       "_view_name": "LayoutView",
       "align_content": null,
       "align_items": null,
       "align_self": null,
       "border": null,
       "bottom": null,
       "display": null,
       "flex": null,
       "flex_flow": null,
       "grid_area": null,
       "grid_auto_columns": null,
       "grid_auto_flow": null,
       "grid_auto_rows": null,
       "grid_column": null,
       "grid_gap": null,
       "grid_row": null,
       "grid_template_areas": null,
       "grid_template_columns": null,
       "grid_template_rows": null,
       "height": null,
       "justify_content": null,
       "justify_items": null,
       "left": null,
       "margin": null,
       "max_height": null,
       "max_width": null,
       "min_height": null,
       "min_width": null,
       "object_fit": null,
       "object_position": null,
       "order": null,
       "overflow": null,
       "overflow_x": null,
       "overflow_y": null,
       "padding": null,
       "right": null,
       "top": null,
       "visibility": null,
       "width": null
      }
     },
     "8c719bbd1fa744099cf29a68d4cde6e6": {
      "model_module": "@jupyter-widgets/controls",
      "model_module_version": "1.5.0",
      "model_name": "HBoxModel",
      "state": {
       "_dom_classes": [],
       "_model_module": "@jupyter-widgets/controls",
       "_model_module_version": "1.5.0",
       "_model_name": "HBoxModel",
       "_view_count": null,
       "_view_module": "@jupyter-widgets/controls",
       "_view_module_version": "1.5.0",
       "_view_name": "HBoxView",
       "box_style": "",
       "children": [
        "IPY_MODEL_964817a4a17b43a1b692cc6c461bee31",
        "IPY_MODEL_66c6cc7be06d42419a09903508c418e6",
        "IPY_MODEL_e79b0a6fd0e14bae89c386401cfa2620"
       ],
       "layout": "IPY_MODEL_e900d45b48c640d5958ae4d3873686c4"
      }
     },
     "964817a4a17b43a1b692cc6c461bee31": {
      "model_module": "@jupyter-widgets/controls",
      "model_module_version": "1.5.0",
      "model_name": "HTMLModel",
      "state": {
       "_dom_classes": [],
       "_model_module": "@jupyter-widgets/controls",
       "_model_module_version": "1.5.0",
       "_model_name": "HTMLModel",
       "_view_count": null,
       "_view_module": "@jupyter-widgets/controls",
       "_view_module_version": "1.5.0",
       "_view_name": "HTMLView",
       "description": "",
       "description_tooltip": null,
       "layout": "IPY_MODEL_89783bd2948e45b9a196c5012bee4f94",
       "placeholder": "​",
       "style": "IPY_MODEL_e2f8137bffc34b54b567d717d9fe629a",
       "value": "100%"
      }
     },
     "ac5f31cdac7e436f9a2a1a09222f73d1": {
      "model_module": "@jupyter-widgets/controls",
      "model_module_version": "1.5.0",
      "model_name": "HTMLModel",
      "state": {
       "_dom_classes": [],
       "_model_module": "@jupyter-widgets/controls",
       "_model_module_version": "1.5.0",
       "_model_name": "HTMLModel",
       "_view_count": null,
       "_view_module": "@jupyter-widgets/controls",
       "_view_module_version": "1.5.0",
       "_view_name": "HTMLView",
       "description": "",
       "description_tooltip": null,
       "layout": "IPY_MODEL_15dedaa3f01d481ab8c363bcc6b040a6",
       "placeholder": "​",
       "style": "IPY_MODEL_ee74108c4c244d7ebd880159f57b44ce",
       "value": " 21837/21837 [04:21&lt;00:00, 86.27it/s]"
      }
     },
     "dca8ce3ab2154dc7a045ddea48e3d280": {
      "model_module": "@jupyter-widgets/controls",
      "model_module_version": "1.5.0",
      "model_name": "FloatProgressModel",
      "state": {
       "_dom_classes": [],
       "_model_module": "@jupyter-widgets/controls",
       "_model_module_version": "1.5.0",
       "_model_name": "FloatProgressModel",
       "_view_count": null,
       "_view_module": "@jupyter-widgets/controls",
       "_view_module_version": "1.5.0",
       "_view_name": "ProgressView",
       "bar_style": "success",
       "description": "",
       "description_tooltip": null,
       "layout": "IPY_MODEL_296584e3cfcf4e4793a3eee2bba7358a",
       "max": 21837,
       "min": 0,
       "orientation": "horizontal",
       "style": "IPY_MODEL_0f6197dc77f34ed4b58dc1c9fa5fcdd5",
       "value": 21837
      }
     },
     "e2f8137bffc34b54b567d717d9fe629a": {
      "model_module": "@jupyter-widgets/controls",
      "model_module_version": "1.5.0",
      "model_name": "DescriptionStyleModel",
      "state": {
       "_model_module": "@jupyter-widgets/controls",
       "_model_module_version": "1.5.0",
       "_model_name": "DescriptionStyleModel",
       "_view_count": null,
       "_view_module": "@jupyter-widgets/base",
       "_view_module_version": "1.2.0",
       "_view_name": "StyleView",
       "description_width": ""
      }
     },
     "e79b0a6fd0e14bae89c386401cfa2620": {
      "model_module": "@jupyter-widgets/controls",
      "model_module_version": "1.5.0",
      "model_name": "HTMLModel",
      "state": {
       "_dom_classes": [],
       "_model_module": "@jupyter-widgets/controls",
       "_model_module_version": "1.5.0",
       "_model_name": "HTMLModel",
       "_view_count": null,
       "_view_module": "@jupyter-widgets/controls",
       "_view_module_version": "1.5.0",
       "_view_name": "HTMLView",
       "description": "",
       "description_tooltip": null,
       "layout": "IPY_MODEL_1949171bdf4f4d42b8e35b4c5457a2ca",
       "placeholder": "​",
       "style": "IPY_MODEL_46e901d9723949e096442f88a0f35a4c",
       "value": " 20985/20985 [00:47&lt;00:00, 271.77it/s]"
      }
     },
     "e900d45b48c640d5958ae4d3873686c4": {
      "model_module": "@jupyter-widgets/base",
      "model_module_version": "1.2.0",
      "model_name": "LayoutModel",
      "state": {
       "_model_module": "@jupyter-widgets/base",
       "_model_module_version": "1.2.0",
       "_model_name": "LayoutModel",
       "_view_count": null,
       "_view_module": "@jupyter-widgets/base",
       "_view_module_version": "1.2.0",
       "_view_name": "LayoutView",
       "align_content": null,
       "align_items": null,
       "align_self": null,
       "border": null,
       "bottom": null,
       "display": null,
       "flex": null,
       "flex_flow": null,
       "grid_area": null,
       "grid_auto_columns": null,
       "grid_auto_flow": null,
       "grid_auto_rows": null,
       "grid_column": null,
       "grid_gap": null,
       "grid_row": null,
       "grid_template_areas": null,
       "grid_template_columns": null,
       "grid_template_rows": null,
       "height": null,
       "justify_content": null,
       "justify_items": null,
       "left": null,
       "margin": null,
       "max_height": null,
       "max_width": null,
       "min_height": null,
       "min_width": null,
       "object_fit": null,
       "object_position": null,
       "order": null,
       "overflow": null,
       "overflow_x": null,
       "overflow_y": null,
       "padding": null,
       "right": null,
       "top": null,
       "visibility": null,
       "width": null
      }
     },
     "ee74108c4c244d7ebd880159f57b44ce": {
      "model_module": "@jupyter-widgets/controls",
      "model_module_version": "1.5.0",
      "model_name": "DescriptionStyleModel",
      "state": {
       "_model_module": "@jupyter-widgets/controls",
       "_model_module_version": "1.5.0",
       "_model_name": "DescriptionStyleModel",
       "_view_count": null,
       "_view_module": "@jupyter-widgets/base",
       "_view_module_version": "1.2.0",
       "_view_name": "StyleView",
       "description_width": ""
      }
     }
    },
    "version_major": 2,
    "version_minor": 0
   }
  }
 },
 "nbformat": 4,
 "nbformat_minor": 5
}
